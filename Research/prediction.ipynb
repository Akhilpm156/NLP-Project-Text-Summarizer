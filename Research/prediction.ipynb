{
 "cells": [
  {
   "cell_type": "code",
   "execution_count": 1,
   "metadata": {},
   "outputs": [],
   "source": [
    "import os"
   ]
  },
  {
   "cell_type": "code",
   "execution_count": 2,
   "metadata": {},
   "outputs": [
    {
     "data": {
      "text/plain": [
       "'c:\\\\Users\\\\HP\\\\Desktop\\\\projects\\\\Text-Summarization\\\\Research'"
      ]
     },
     "execution_count": 2,
     "metadata": {},
     "output_type": "execute_result"
    }
   ],
   "source": [
    "%pwd"
   ]
  },
  {
   "cell_type": "code",
   "execution_count": 3,
   "metadata": {},
   "outputs": [
    {
     "data": {
      "text/plain": [
       "'c:\\\\Users\\\\HP\\\\Desktop\\\\projects\\\\Text-Summarization'"
      ]
     },
     "execution_count": 3,
     "metadata": {},
     "output_type": "execute_result"
    }
   ],
   "source": [
    "os.chdir(\"../\")\n",
    "%pwd"
   ]
  },
  {
   "cell_type": "code",
   "execution_count": 13,
   "metadata": {},
   "outputs": [],
   "source": [
    "from textSummarizer.config.configuration import ConfigurationManager\n",
    "from transformers import AutoTokenizer\n",
    "from transformers import pipeline\n",
    "\n",
    "\n",
    "class PredictionPipeline:\n",
    "    def __init__(self):\n",
    "        self.config = ConfigurationManager().get_model_evaluation_config()\n",
    "\n",
    "\n",
    "    \n",
    "    def predict(self,text):\n",
    "        tokenizer = AutoTokenizer.from_pretrained(self.config.tokenizer_path)\n",
    "        gen_kwargs = {\"length_penalty\": 0.8, \"num_beams\":8, \"max_length\": 60}\n",
    "\n",
    "        pipe = pipeline(\"summarization\", model=self.config.model_path,tokenizer=tokenizer)\n",
    "\n",
    "        print(\"Dialogue:\")\n",
    "        print(text)\n",
    "\n",
    "        output = pipe(text, **gen_kwargs)[0][\"summary_text\"]\n",
    "        print(\"\\nModel Summary:\")\n",
    "        print(output)\n",
    "\n",
    "        return output"
   ]
  },
  {
   "cell_type": "code",
   "execution_count": 5,
   "metadata": {},
   "outputs": [
    {
     "name": "stdout",
     "output_type": "stream",
     "text": [
      "[2025-01-16 22:24:24,761: INFO: config: PyTorch version 2.5.1 available.]\n"
     ]
    },
    {
     "data": {
      "text/plain": [
       "DatasetDict({\n",
       "    train: Dataset({\n",
       "        features: ['id', 'dialogue', 'summary'],\n",
       "        num_rows: 14732\n",
       "    })\n",
       "    test: Dataset({\n",
       "        features: ['id', 'dialogue', 'summary'],\n",
       "        num_rows: 819\n",
       "    })\n",
       "    validation: Dataset({\n",
       "        features: ['id', 'dialogue', 'summary'],\n",
       "        num_rows: 818\n",
       "    })\n",
       "})"
      ]
     },
     "execution_count": 5,
     "metadata": {},
     "output_type": "execute_result"
    }
   ],
   "source": [
    "from datasets import load_from_disk\n",
    "\n",
    "dataset_samsum = load_from_disk('artifacts/data_ingestion/samsum_dataset')\n",
    "dataset_samsum"
   ]
  },
  {
   "cell_type": "code",
   "execution_count": 12,
   "metadata": {},
   "outputs": [
    {
     "name": "stdout",
     "output_type": "stream",
     "text": [
      "Amanda: I baked  cookies. Do you want some?\n",
      "Jerry: Sure!\n",
      "Amanda: I'll bring you tomorrow :-)\n",
      "**************************************************\n",
      "Amanda baked cookies and will bring Jerry some tomorrow.\n"
     ]
    }
   ],
   "source": [
    "print(dataset_samsum['train']['dialogue'][0])\n",
    "print('*'*50)\n",
    "print(dataset_samsum['train']['summary'][0])"
   ]
  },
  {
   "cell_type": "code",
   "execution_count": 17,
   "metadata": {},
   "outputs": [
    {
     "name": "stdout",
     "output_type": "stream",
     "text": [
      "[2025-01-16 23:03:39,747: INFO: common: yaml_file: config\\config.yaml loaded successfully]\n",
      "[2025-01-16 23:03:42,385: INFO: common: yaml_file: params.yaml loaded successfully]\n",
      "[2025-01-16 23:03:43,535: INFO: common: created directory at : artifacts]\n",
      "[2025-01-16 23:03:43,599: INFO: common: created directory at : artifacts/model_evaluation]\n"
     ]
    },
    {
     "name": "stderr",
     "output_type": "stream",
     "text": [
      "Device set to use cpu\n"
     ]
    },
    {
     "name": "stdout",
     "output_type": "stream",
     "text": [
      "Dialogue:\n",
      "Hannah: Hey, do you have Betty's number?\n",
      "    Amanda: Lemme check\n",
      "    Hannah: <file_gif>\n",
      "    Amanda: Sorry, can't find it.\n",
      "    Amanda: Ask Larry\n",
      "    Amanda: He called her last time we were at the park together\n",
      "    Hannah: I don't know him well\n",
      "    Hannah: <file_gif>\n",
      "    Amanda: Don't be shy, he's very nice\n",
      "    Hannah: If you say so..\n",
      "    Hannah: I'd rather you texted him\n",
      "    Amanda: Just text him 🙂\n",
      "    Hannah: Urgh.. Alright\n",
      "    Hannah: Bye\n",
      "    Amanda: Bye bye\n",
      "\n",
      "Model Summary:\n",
      "Amanda: Ask Larry Amanda: He called her last time we were at the park together .<n>Hannah: I'd rather you texted him .<n>Amanda: Just text him .\n",
      "Amanda: Ask Larry Amanda: He called her last time we were at the park together .<n>Hannah: I'd rather you texted him .<n>Amanda: Just text him .\n"
     ]
    }
   ],
   "source": [
    "text = \"\"\"Hannah: Hey, do you have Betty's number?\n",
    "    Amanda: Lemme check\n",
    "    Hannah: <file_gif>\n",
    "    Amanda: Sorry, can't find it.\n",
    "    Amanda: Ask Larry\n",
    "    Amanda: He called her last time we were at the park together\n",
    "    Hannah: I don't know him well\n",
    "    Hannah: <file_gif>\n",
    "    Amanda: Don't be shy, he's very nice\n",
    "    Hannah: If you say so..\n",
    "    Hannah: I'd rather you texted him\n",
    "    Amanda: Just text him 🙂\n",
    "    Hannah: Urgh.. Alright\n",
    "    Hannah: Bye\n",
    "    Amanda: Bye bye\"\"\"\n",
    "\n",
    "obj = PredictionPipeline()\n",
    "text = obj.predict(text)\n",
    "print(text)"
   ]
  },
  {
   "cell_type": "code",
   "execution_count": 19,
   "metadata": {},
   "outputs": [
    {
     "name": "stderr",
     "output_type": "stream",
     "text": [
      "Device set to use cpu\n"
     ]
    },
    {
     "name": "stdout",
     "output_type": "stream",
     "text": [
      "Dialogue:\n",
      "Amanda: I baked  cookies. Do you want some?\n",
      "Jerry: Sure!\n",
      "Amanda: I'll bring you tomorrow :-\n"
     ]
    },
    {
     "name": "stderr",
     "output_type": "stream",
     "text": [
      "Your max_length is set to 60, but your input_length is only 25. Since this is a summarization task, where outputs shorter than the input are typically wanted, you might consider decreasing max_length manually, e.g. summarizer('...', max_length=12)\n"
     ]
    },
    {
     "name": "stdout",
     "output_type": "stream",
     "text": [
      "\n",
      "Model Summary:\n",
      "Amanda: I baked cookies. Do you want some?<n>Amanda: I'll bring you tomorrow :- .<n>Amanda: I baked cookies. Do you want some?\n",
      "Amanda: I baked cookies. Do you want some?<n>Amanda: I'll bring you tomorrow :- .<n>Amanda: I baked cookies. Do you want some?\n"
     ]
    }
   ],
   "source": [
    "text = obj.predict(\"\"\"Amanda: I baked  cookies. Do you want some?\n",
    "Jerry: Sure!\n",
    "Amanda: I'll bring you tomorrow :-\"\"\")\n",
    "\n",
    "print(text)"
   ]
  }
 ],
 "metadata": {
  "kernelspec": {
   "display_name": "venv",
   "language": "python",
   "name": "python3"
  },
  "language_info": {
   "codemirror_mode": {
    "name": "ipython",
    "version": 3
   },
   "file_extension": ".py",
   "mimetype": "text/x-python",
   "name": "python",
   "nbconvert_exporter": "python",
   "pygments_lexer": "ipython3",
   "version": "3.10.16"
  }
 },
 "nbformat": 4,
 "nbformat_minor": 2
}
